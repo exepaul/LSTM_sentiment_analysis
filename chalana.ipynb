{
 "cells": [
  {
   "cell_type": "code",
   "execution_count": 98,
   "metadata": {},
   "outputs": [],
   "source": [
    "import tensorflow as tf\n",
    "import pickle  as pk\n",
    "import nltk\n",
    "import sys\n",
    "import unicodedata\n",
    "\n",
    "with open('vocab_pita.pkl','rb') as f:\n",
    "    vocab_o = pk.load(f)\n",
    "\n",
    "vocab_to_int = {j:i for i,j in enumerate(vocab_o)}\n",
    "int_to_vocab ={k:m for m,k in vocab_to_int.items()}\n",
    "\n",
    "punctuation=dict.fromkeys([i for i in range(sys.maxunicode) if unicodedata.category(chr(i)).startswith('P')])\t\n",
    "\t\n",
    "def remove_pun(text):\t\n",
    "    #removing punctuation\t\n",
    "    return [i.lower() for i in nltk.word_tokenize(text.translate(punctuation))]\t\n"
   ]
  },
  {
   "cell_type": "code",
   "execution_count": 149,
   "metadata": {},
   "outputs": [
    {
     "name": "stdout",
     "output_type": "stream",
     "text": [
      "INFO:tensorflow:Restoring parameters from /Users/monk/Desktop/Word_cloud_model/movies/punjab_grill/haha/lk0epoch/0\n",
      "0\n"
     ]
    }
   ],
   "source": [
    "sess =  tf.Session()\t\n",
    "saver = tf.train.import_meta_graph('lk0epoch/0.meta')\t\n",
    "restore = saver.restore(sess,tf.train.latest_checkpoint('lk0epoch/'))\t\n",
    "\t\n",
    "graph=tf.get_default_graph()\t\n",
    "\t\n",
    "query= graph.get_tensor_by_name(\"input_data:0\")\t\n",
    "result=graph.get_tensor_by_name(\"pred:0\")\t\n",
    "plot=graph.get_tensor_by_name(\"Plot:0\")\t\n",
    "\n",
    "\n",
    "\n",
    "\n",
    "\n",
    "def encode_query(text_):\t\n",
    "    query=remove_pun(text_)\t\n",
    "    sequence_data=[]\t\n",
    "    for i in query:\t\n",
    "\t\n",
    "        if i in vocab_to_int:\t\n",
    "            sequence_data.append(vocab_to_int[i])\t\n",
    "\t\n",
    "    return sequence_data\n",
    "\n",
    "\n",
    "labels_dict = {0:'negative',1:'postive'}\n",
    "\n",
    "\n",
    "    \t\n",
    "def predict(user_query_,sess=sess):\t\n",
    "        user_query_p = user_query_.split()\n",
    "        user_query = encode_query(user_query_)\t\n",
    "        feed_dict = {query:[user_query]}\t\n",
    "        \t\n",
    "        prediction,plot_a = sess.run([result,plot],feed_dict=feed_dict)\t\n",
    "        \n",
    "#         print(prediction)\n",
    "        return prediction[0].tolist().index(max(prediction[0]))\n",
    "#         print(list(zip(user_query_p,plot_a[0])))\n",
    "#         pred=labels_dict[prediction[0].index(max(prediction[0]))]\t\n",
    "#         print(plot_a,user_query_)\n",
    "#         return { \t\n",
    "#                  'Adverse_Event_Flag': pred ,\t\n",
    "#                  'Probability'       : max(prediction[0])\t\n",
    "#                }\t\n",
    "\n",
    "print(predict('Lol the other day this super ugly fat girl who i have never even talked to before said i looked like a paris hilton wanna-be, i was like wow thanks i love paris hilton!'))"
   ]
  },
  {
   "cell_type": "code",
   "execution_count": null,
   "metadata": {},
   "outputs": [],
   "source": [
    "\n",
    "\n"
   ]
  },
  {
   "cell_type": "code",
   "execution_count": null,
   "metadata": {},
   "outputs": [],
   "source": []
  },
  {
   "cell_type": "code",
   "execution_count": null,
   "metadata": {},
   "outputs": [],
   "source": []
  }
 ],
 "metadata": {
  "kernelspec": {
   "display_name": "Python 3",
   "language": "python",
   "name": "python3"
  },
  "language_info": {
   "codemirror_mode": {
    "name": "ipython",
    "version": 3
   },
   "file_extension": ".py",
   "mimetype": "text/x-python",
   "name": "python",
   "nbconvert_exporter": "python",
   "pygments_lexer": "ipython3",
   "version": "3.6.5"
  }
 },
 "nbformat": 4,
 "nbformat_minor": 2
}
